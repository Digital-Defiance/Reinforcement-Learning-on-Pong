{
 "cells": [
  {
   "cell_type": "code",
   "execution_count": 3,
   "metadata": {},
   "outputs": [],
   "source": [
    "import numpy as np\n",
    "import cv2\n",
    "import matplotlib.pyplot as plt\n",
    "import PIL.Image as Image\n",
    "import gym\n",
    "import random\n",
    "\n",
    "from gym import Env, spaces\n",
    "import time\n"
   ]
  },
  {
   "cell_type": "code",
   "execution_count": 4,
   "metadata": {},
   "outputs": [],
   "source": [
    "font = cv2.FONT_HERSHEY_COMPLEX_SMALL"
   ]
  },
  {
   "cell_type": "code",
   "execution_count": 5,
   "metadata": {},
   "outputs": [],
   "source": [
    "\n",
    "class Striker:\n",
    "    def __init__(self):\n",
    "        self.x = 0\n",
    "        self.y = 200\n",
    "        self.width = 15\n",
    "        self.height = 60\n",
    "        self.y_min = 0\n",
    "        self.y_max = 400\n",
    "        self.velocity = 5\n",
    "        self.screen_height = 400\n",
    "\n",
    "        # now creating icon for it\n",
    "        self.icon = cv2.imread(\"paddle.png\") / 255.0\n",
    "        self.icon = cv2.resize(self.icon, (self.width, self.height))\n",
    "        \n",
    "        \n",
    "\n",
    "    def set_position(self, x, y):\n",
    "        self.x = x\n",
    "        self.y = y\n",
    "\n",
    "    def get_position(self):\n",
    "        return (self.x, self.y)\n",
    "    \n",
    "    def move(self,direction):\n",
    "        if direction == 'up':\n",
    "            self.y -= self.velocity\n",
    "        elif direction == 'down':\n",
    "            self.y += self.velocity\n",
    "        \n",
    "        if self.y < 0:\n",
    "            self.y = 0\n",
    "        elif self.y + self.height > self.screen_height:\n",
    "            self.y = self.screen_height - self.height\n",
    "\n",
    "        self.set_position(self.x, self.y)\n",
    "             \n",
    "        \n",
    "\n",
    "class Ball:\n",
    "    def __init__(self):\n",
    "        self.x = 400\n",
    "        self.y = 200\n",
    "        self.radius = 10\n",
    "        self.velocity_x = 3\n",
    "        self.velocity_y = 3\n",
    "        self.color = (255, 255, 255)\n",
    "        self.screen_width = 800\n",
    "        self.screen_height = 400\n",
    "\n",
    "\n",
    "    def set_position(self, x, y):\n",
    "        self.x = x\n",
    "        self.y = y\n",
    "\n",
    "    def get_position(self):\n",
    "        return (self.x, self.y)\n",
    "\n",
    "\n",
    "    def move(self):\n",
    "        self.x += self.velocity_x\n",
    "        self.y += self.velocity_y\n",
    "\n",
    "        if self.y - self.radius <= 0 or self.y + self.radius >= self.screen_height:\n",
    "            self.velocity_y = -self.velocity_y\n",
    "        if self.x - self.radius <= 0 or self.x + self.radius >= self.screen_width:\n",
    "            self.velocity_x =  -self.velocity_x\n",
    "\n",
    "\n",
    "        self.set_position(self.x, self.y)\n"
   ]
  },
  {
   "cell_type": "code",
   "execution_count": 12,
   "metadata": {},
   "outputs": [
    {
     "name": "stderr",
     "output_type": "stream",
     "text": [
      "/home/abhay/Projects/Pong/venv/lib64/python3.12/site-packages/gym/spaces/box.py:127: UserWarning: \u001b[33mWARN: Box bound precision lowered by casting to float16\u001b[0m\n",
      "  logger.warn(f\"Box bound precision lowered by casting to {self.dtype}\")\n"
     ]
    },
    {
     "data": {
      "text/plain": [
       "<matplotlib.image.AxesImage at 0x7f8cb955fd70>"
      ]
     },
     "execution_count": 12,
     "metadata": {},
     "output_type": "execute_result"
    },
    {
     "data": {
      "image/png": "[encoded data removed]",
      "text/plain": [
       "<Figure size 640x480 with 1 Axes>"
      ]
     },
     "metadata": {},
     "output_type": "display_data"
    }
   ],
   "source": [
    "class PongEnvironment(Env):\n",
    "    \n",
    "    def __init__(self):\n",
    "        super(PongEnvironment, self).__init__()\n",
    "\n",
    "        self.height = 400\n",
    "        self.width = 800\n",
    "        \n",
    "        self.observation_shape = (self.height, self.width, 3)\n",
    "        self.observation_space = spaces.Box(low = np.zeros(self.observation_shape),\n",
    "                                            high = np.ones(self.observation_shape),\n",
    "                                            dtype = np.float16)\n",
    "        \n",
    "        # so we have only 2 action [0:left, 1:right]\n",
    "        self.action_space = spaces.Discrete(2)\n",
    "\n",
    "        self.canvas = np.ones(self.observation_shape) * 1\n",
    "\n",
    "        # Defining elements present inside the environment\n",
    "        self.elements = []\n",
    "        # e.g -> striker, ball ( distinct elements )\n",
    "\n",
    "    def draw_elements_on_canvas(self):\n",
    "        \n",
    "        self.canvas = np.ones(self.observation_shape) * 1\n",
    "\n",
    "        for elem in self.elements:\n",
    "            elem_shape = elem.icon.shape\n",
    "            x, y = elem.x, elem.y\n",
    "            self.canvas[y : y + elem_shape[0], x : x + elem_shape[1]] = elem.icon\n",
    "\n",
    "    def reset(self):\n",
    "        # episodic return\n",
    "        self.ep_return = 0\n",
    "\n",
    "        # Initialize striker object\n",
    "        self.striker = Striker()\n",
    "        self.striker.set_position(0, 200)\n",
    "\n",
    "        # adding to elements\n",
    "        self.elements = [self.striker]\n",
    "\n",
    "        self.canvas = np.ones(self.observation_shape) * 1\n",
    "\n",
    "        # drawing elements on canvas\n",
    "        self.draw_elements_on_canvas()\n",
    "\n",
    "        # returning observation\n",
    "        return self.canvas    \n",
    "\n",
    "\n",
    "    def step(self):\n",
    "        pass\n",
    "\n",
    "\n",
    "\n",
    "env = PongEnvironment()\n",
    "obs = env.reset()\n",
    "plt.imshow(obs)\n",
    "\n",
    "        "
   ]
  }
 ],
 "metadata": {
  "kernelspec": {
   "display_name": "venv",
   "language": "python",
   "name": "python3"
  },
  "language_info": {
   "codemirror_mode": {
    "name": "ipython",
    "version": 3
   },
   "file_extension": ".py",
   "mimetype": "text/x-python",
   "name": "python",
   "nbconvert_exporter": "python",
   "pygments_lexer": "ipython3",
   "version": "3.12.3"
  }
 },
 "nbformat": 4,
 "nbformat_minor": 2
}
